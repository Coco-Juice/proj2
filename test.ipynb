{
 "cells": [
  {
   "cell_type": "code",
   "execution_count": 71,
   "id": "451a68f1",
   "metadata": {},
   "outputs": [],
   "source": [
    "import pandas as pd\n",
    "import numpy as np\n",
    "import plotly.express as px\n",
    "import plotly.graph_objects as go"
   ]
  },
  {
   "cell_type": "code",
   "execution_count": 21,
   "id": "aada6581",
   "metadata": {},
   "outputs": [],
   "source": [
    "db = pd.read_csv('CCRB-Complaint-Data_202007271729/allegations_202007271729.csv')\n",
    "db['name'] =  db['first_name'] + ' ' + db['last_name']\n",
    "db = db.drop(columns=['first_name', 'last_name'])\n",
    "colOrder = ['unique_mos_id', 'name', 'command_now', 'shield_no', 'complaint_id',\n",
    "       'month_received', 'year_received', 'month_closed', 'year_closed',\n",
    "       'command_at_incident', 'rank_abbrev_incident', 'rank_abbrev_now',\n",
    "       'rank_now', 'rank_incident', 'mos_ethnicity', 'mos_gender',\n",
    "       'mos_age_incident', 'complainant_ethnicity', 'complainant_gender',\n",
    "       'complainant_age_incident', 'fado_type', 'allegation', 'precinct',\n",
    "       'contact_reason', 'outcome_description', 'board_disposition']\n",
    "db = db[colOrder]\n",
    "db['allegation'] = db['allegation'].str.title()\n",
    "race = ['Unknown', 'Refused', 'American Indian']\n",
    "db = db.drop(db[db['complainant_ethnicity'].isin(race)].index)"
   ]
  },
  {
   "cell_type": "code",
   "execution_count": 3,
   "id": "a3160488",
   "metadata": {},
   "outputs": [],
   "source": [
    "pd.set_option('display.max_columns', None)\n",
    "pd.set_option('display.max_rows', 10)"
   ]
  },
  {
   "cell_type": "code",
   "execution_count": 22,
   "id": "1c2fd5a0",
   "metadata": {},
   "outputs": [
    {
     "data": {
      "text/html": [
       "<div>\n",
       "<style scoped>\n",
       "    .dataframe tbody tr th:only-of-type {\n",
       "        vertical-align: middle;\n",
       "    }\n",
       "\n",
       "    .dataframe tbody tr th {\n",
       "        vertical-align: top;\n",
       "    }\n",
       "\n",
       "    .dataframe thead th {\n",
       "        text-align: right;\n",
       "    }\n",
       "</style>\n",
       "<table border=\"1\" class=\"dataframe\">\n",
       "  <thead>\n",
       "    <tr style=\"text-align: right;\">\n",
       "      <th></th>\n",
       "      <th>unique_mos_id</th>\n",
       "      <th>name</th>\n",
       "      <th>command_now</th>\n",
       "      <th>shield_no</th>\n",
       "      <th>complaint_id</th>\n",
       "      <th>month_received</th>\n",
       "      <th>year_received</th>\n",
       "      <th>month_closed</th>\n",
       "      <th>year_closed</th>\n",
       "      <th>command_at_incident</th>\n",
       "      <th>rank_abbrev_incident</th>\n",
       "      <th>rank_abbrev_now</th>\n",
       "      <th>rank_now</th>\n",
       "      <th>rank_incident</th>\n",
       "      <th>mos_ethnicity</th>\n",
       "      <th>mos_gender</th>\n",
       "      <th>mos_age_incident</th>\n",
       "      <th>complainant_ethnicity</th>\n",
       "      <th>complainant_gender</th>\n",
       "      <th>complainant_age_incident</th>\n",
       "      <th>fado_type</th>\n",
       "      <th>allegation</th>\n",
       "      <th>precinct</th>\n",
       "      <th>contact_reason</th>\n",
       "      <th>outcome_description</th>\n",
       "      <th>board_disposition</th>\n",
       "    </tr>\n",
       "  </thead>\n",
       "  <tbody>\n",
       "    <tr>\n",
       "      <th>0</th>\n",
       "      <td>10004</td>\n",
       "      <td>Jonathan Ruiz</td>\n",
       "      <td>078 PCT</td>\n",
       "      <td>8409</td>\n",
       "      <td>42835</td>\n",
       "      <td>7</td>\n",
       "      <td>2019</td>\n",
       "      <td>5</td>\n",
       "      <td>2020</td>\n",
       "      <td>078 PCT</td>\n",
       "      <td>POM</td>\n",
       "      <td>POM</td>\n",
       "      <td>Police Officer</td>\n",
       "      <td>Police Officer</td>\n",
       "      <td>Hispanic</td>\n",
       "      <td>M</td>\n",
       "      <td>32</td>\n",
       "      <td>Black</td>\n",
       "      <td>Female</td>\n",
       "      <td>38.0</td>\n",
       "      <td>Abuse of Authority</td>\n",
       "      <td>Failure To Provide Rtka Card</td>\n",
       "      <td>78.0</td>\n",
       "      <td>Report-domestic dispute</td>\n",
       "      <td>No arrest made or summons issued</td>\n",
       "      <td>Substantiated (Command Lvl Instructions)</td>\n",
       "    </tr>\n",
       "    <tr>\n",
       "      <th>1</th>\n",
       "      <td>10007</td>\n",
       "      <td>John Sears</td>\n",
       "      <td>078 PCT</td>\n",
       "      <td>5952</td>\n",
       "      <td>24601</td>\n",
       "      <td>11</td>\n",
       "      <td>2011</td>\n",
       "      <td>8</td>\n",
       "      <td>2012</td>\n",
       "      <td>PBBS</td>\n",
       "      <td>POM</td>\n",
       "      <td>POM</td>\n",
       "      <td>Police Officer</td>\n",
       "      <td>Police Officer</td>\n",
       "      <td>White</td>\n",
       "      <td>M</td>\n",
       "      <td>24</td>\n",
       "      <td>Black</td>\n",
       "      <td>Male</td>\n",
       "      <td>26.0</td>\n",
       "      <td>Discourtesy</td>\n",
       "      <td>Action</td>\n",
       "      <td>67.0</td>\n",
       "      <td>Moving violation</td>\n",
       "      <td>Moving violation summons issued</td>\n",
       "      <td>Substantiated (Charges)</td>\n",
       "    </tr>\n",
       "    <tr>\n",
       "      <th>2</th>\n",
       "      <td>10007</td>\n",
       "      <td>John Sears</td>\n",
       "      <td>078 PCT</td>\n",
       "      <td>5952</td>\n",
       "      <td>24601</td>\n",
       "      <td>11</td>\n",
       "      <td>2011</td>\n",
       "      <td>8</td>\n",
       "      <td>2012</td>\n",
       "      <td>PBBS</td>\n",
       "      <td>POM</td>\n",
       "      <td>POM</td>\n",
       "      <td>Police Officer</td>\n",
       "      <td>Police Officer</td>\n",
       "      <td>White</td>\n",
       "      <td>M</td>\n",
       "      <td>24</td>\n",
       "      <td>Black</td>\n",
       "      <td>Male</td>\n",
       "      <td>26.0</td>\n",
       "      <td>Offensive Language</td>\n",
       "      <td>Race</td>\n",
       "      <td>67.0</td>\n",
       "      <td>Moving violation</td>\n",
       "      <td>Moving violation summons issued</td>\n",
       "      <td>Substantiated (Charges)</td>\n",
       "    </tr>\n",
       "    <tr>\n",
       "      <th>3</th>\n",
       "      <td>10007</td>\n",
       "      <td>John Sears</td>\n",
       "      <td>078 PCT</td>\n",
       "      <td>5952</td>\n",
       "      <td>26146</td>\n",
       "      <td>7</td>\n",
       "      <td>2012</td>\n",
       "      <td>9</td>\n",
       "      <td>2013</td>\n",
       "      <td>PBBS</td>\n",
       "      <td>POM</td>\n",
       "      <td>POM</td>\n",
       "      <td>Police Officer</td>\n",
       "      <td>Police Officer</td>\n",
       "      <td>White</td>\n",
       "      <td>M</td>\n",
       "      <td>25</td>\n",
       "      <td>Black</td>\n",
       "      <td>Male</td>\n",
       "      <td>45.0</td>\n",
       "      <td>Abuse of Authority</td>\n",
       "      <td>Question</td>\n",
       "      <td>67.0</td>\n",
       "      <td>PD suspected C/V of violation/crime - street</td>\n",
       "      <td>No arrest made or summons issued</td>\n",
       "      <td>Substantiated (Charges)</td>\n",
       "    </tr>\n",
       "    <tr>\n",
       "      <th>4</th>\n",
       "      <td>10009</td>\n",
       "      <td>Noemi Sierra</td>\n",
       "      <td>078 PCT</td>\n",
       "      <td>24058</td>\n",
       "      <td>40253</td>\n",
       "      <td>8</td>\n",
       "      <td>2018</td>\n",
       "      <td>2</td>\n",
       "      <td>2019</td>\n",
       "      <td>078 PCT</td>\n",
       "      <td>POF</td>\n",
       "      <td>POF</td>\n",
       "      <td>Police Officer</td>\n",
       "      <td>Police Officer</td>\n",
       "      <td>Hispanic</td>\n",
       "      <td>F</td>\n",
       "      <td>39</td>\n",
       "      <td>NaN</td>\n",
       "      <td>NaN</td>\n",
       "      <td>16.0</td>\n",
       "      <td>Force</td>\n",
       "      <td>Physical Force</td>\n",
       "      <td>67.0</td>\n",
       "      <td>Report-dispute</td>\n",
       "      <td>Arrest - other violation/crime</td>\n",
       "      <td>Substantiated (Command Discipline A)</td>\n",
       "    </tr>\n",
       "    <tr>\n",
       "      <th>...</th>\n",
       "      <td>...</td>\n",
       "      <td>...</td>\n",
       "      <td>...</td>\n",
       "      <td>...</td>\n",
       "      <td>...</td>\n",
       "      <td>...</td>\n",
       "      <td>...</td>\n",
       "      <td>...</td>\n",
       "      <td>...</td>\n",
       "      <td>...</td>\n",
       "      <td>...</td>\n",
       "      <td>...</td>\n",
       "      <td>...</td>\n",
       "      <td>...</td>\n",
       "      <td>...</td>\n",
       "      <td>...</td>\n",
       "      <td>...</td>\n",
       "      <td>...</td>\n",
       "      <td>...</td>\n",
       "      <td>...</td>\n",
       "      <td>...</td>\n",
       "      <td>...</td>\n",
       "      <td>...</td>\n",
       "      <td>...</td>\n",
       "      <td>...</td>\n",
       "      <td>...</td>\n",
       "    </tr>\n",
       "    <tr>\n",
       "      <th>33353</th>\n",
       "      <td>9992</td>\n",
       "      <td>Tomasz Pulawski</td>\n",
       "      <td>078 PCT</td>\n",
       "      <td>2642</td>\n",
       "      <td>35671</td>\n",
       "      <td>8</td>\n",
       "      <td>2016</td>\n",
       "      <td>2</td>\n",
       "      <td>2017</td>\n",
       "      <td>066 PCT</td>\n",
       "      <td>POM</td>\n",
       "      <td>SGT</td>\n",
       "      <td>Sergeant</td>\n",
       "      <td>Police Officer</td>\n",
       "      <td>White</td>\n",
       "      <td>M</td>\n",
       "      <td>36</td>\n",
       "      <td>Asian</td>\n",
       "      <td>Male</td>\n",
       "      <td>21.0</td>\n",
       "      <td>Discourtesy</td>\n",
       "      <td>Word</td>\n",
       "      <td>66.0</td>\n",
       "      <td>Moving violation</td>\n",
       "      <td>Moving violation summons issued</td>\n",
       "      <td>Unsubstantiated</td>\n",
       "    </tr>\n",
       "    <tr>\n",
       "      <th>33354</th>\n",
       "      <td>9992</td>\n",
       "      <td>Tomasz Pulawski</td>\n",
       "      <td>078 PCT</td>\n",
       "      <td>2642</td>\n",
       "      <td>35671</td>\n",
       "      <td>8</td>\n",
       "      <td>2016</td>\n",
       "      <td>2</td>\n",
       "      <td>2017</td>\n",
       "      <td>066 PCT</td>\n",
       "      <td>POM</td>\n",
       "      <td>SGT</td>\n",
       "      <td>Sergeant</td>\n",
       "      <td>Police Officer</td>\n",
       "      <td>White</td>\n",
       "      <td>M</td>\n",
       "      <td>36</td>\n",
       "      <td>Asian</td>\n",
       "      <td>Male</td>\n",
       "      <td>21.0</td>\n",
       "      <td>Abuse of Authority</td>\n",
       "      <td>Interference With Recording</td>\n",
       "      <td>66.0</td>\n",
       "      <td>Moving violation</td>\n",
       "      <td>Moving violation summons issued</td>\n",
       "      <td>Unsubstantiated</td>\n",
       "    </tr>\n",
       "    <tr>\n",
       "      <th>33355</th>\n",
       "      <td>9992</td>\n",
       "      <td>Tomasz Pulawski</td>\n",
       "      <td>078 PCT</td>\n",
       "      <td>2642</td>\n",
       "      <td>35671</td>\n",
       "      <td>8</td>\n",
       "      <td>2016</td>\n",
       "      <td>2</td>\n",
       "      <td>2017</td>\n",
       "      <td>066 PCT</td>\n",
       "      <td>POM</td>\n",
       "      <td>SGT</td>\n",
       "      <td>Sergeant</td>\n",
       "      <td>Police Officer</td>\n",
       "      <td>White</td>\n",
       "      <td>M</td>\n",
       "      <td>36</td>\n",
       "      <td>Asian</td>\n",
       "      <td>Male</td>\n",
       "      <td>21.0</td>\n",
       "      <td>Abuse of Authority</td>\n",
       "      <td>Search (Of Person)</td>\n",
       "      <td>66.0</td>\n",
       "      <td>Moving violation</td>\n",
       "      <td>Moving violation summons issued</td>\n",
       "      <td>Substantiated (Formalized Training)</td>\n",
       "    </tr>\n",
       "    <tr>\n",
       "      <th>33356</th>\n",
       "      <td>9992</td>\n",
       "      <td>Tomasz Pulawski</td>\n",
       "      <td>078 PCT</td>\n",
       "      <td>2642</td>\n",
       "      <td>35671</td>\n",
       "      <td>8</td>\n",
       "      <td>2016</td>\n",
       "      <td>2</td>\n",
       "      <td>2017</td>\n",
       "      <td>066 PCT</td>\n",
       "      <td>POM</td>\n",
       "      <td>SGT</td>\n",
       "      <td>Sergeant</td>\n",
       "      <td>Police Officer</td>\n",
       "      <td>White</td>\n",
       "      <td>M</td>\n",
       "      <td>36</td>\n",
       "      <td>Asian</td>\n",
       "      <td>Male</td>\n",
       "      <td>21.0</td>\n",
       "      <td>Abuse of Authority</td>\n",
       "      <td>Vehicle Search</td>\n",
       "      <td>66.0</td>\n",
       "      <td>Moving violation</td>\n",
       "      <td>Moving violation summons issued</td>\n",
       "      <td>Substantiated (Formalized Training)</td>\n",
       "    </tr>\n",
       "    <tr>\n",
       "      <th>33357</th>\n",
       "      <td>9992</td>\n",
       "      <td>Tomasz Pulawski</td>\n",
       "      <td>078 PCT</td>\n",
       "      <td>2642</td>\n",
       "      <td>35671</td>\n",
       "      <td>8</td>\n",
       "      <td>2016</td>\n",
       "      <td>2</td>\n",
       "      <td>2017</td>\n",
       "      <td>066 PCT</td>\n",
       "      <td>POM</td>\n",
       "      <td>SGT</td>\n",
       "      <td>Sergeant</td>\n",
       "      <td>Police Officer</td>\n",
       "      <td>White</td>\n",
       "      <td>M</td>\n",
       "      <td>36</td>\n",
       "      <td>Asian</td>\n",
       "      <td>Male</td>\n",
       "      <td>21.0</td>\n",
       "      <td>Abuse of Authority</td>\n",
       "      <td>Frisk</td>\n",
       "      <td>66.0</td>\n",
       "      <td>Moving violation</td>\n",
       "      <td>Moving violation summons issued</td>\n",
       "      <td>Substantiated (Formalized Training)</td>\n",
       "    </tr>\n",
       "  </tbody>\n",
       "</table>\n",
       "<p>31994 rows × 26 columns</p>\n",
       "</div>"
      ],
      "text/plain": [
       "       unique_mos_id             name command_now  shield_no  complaint_id  \\\n",
       "0              10004    Jonathan Ruiz     078 PCT       8409         42835   \n",
       "1              10007       John Sears     078 PCT       5952         24601   \n",
       "2              10007       John Sears     078 PCT       5952         24601   \n",
       "3              10007       John Sears     078 PCT       5952         26146   \n",
       "4              10009     Noemi Sierra     078 PCT      24058         40253   \n",
       "...              ...              ...         ...        ...           ...   \n",
       "33353           9992  Tomasz Pulawski     078 PCT       2642         35671   \n",
       "33354           9992  Tomasz Pulawski     078 PCT       2642         35671   \n",
       "33355           9992  Tomasz Pulawski     078 PCT       2642         35671   \n",
       "33356           9992  Tomasz Pulawski     078 PCT       2642         35671   \n",
       "33357           9992  Tomasz Pulawski     078 PCT       2642         35671   \n",
       "\n",
       "       month_received  year_received  month_closed  year_closed  \\\n",
       "0                   7           2019             5         2020   \n",
       "1                  11           2011             8         2012   \n",
       "2                  11           2011             8         2012   \n",
       "3                   7           2012             9         2013   \n",
       "4                   8           2018             2         2019   \n",
       "...               ...            ...           ...          ...   \n",
       "33353               8           2016             2         2017   \n",
       "33354               8           2016             2         2017   \n",
       "33355               8           2016             2         2017   \n",
       "33356               8           2016             2         2017   \n",
       "33357               8           2016             2         2017   \n",
       "\n",
       "      command_at_incident rank_abbrev_incident rank_abbrev_now  \\\n",
       "0                 078 PCT                  POM             POM   \n",
       "1                    PBBS                  POM             POM   \n",
       "2                    PBBS                  POM             POM   \n",
       "3                    PBBS                  POM             POM   \n",
       "4                 078 PCT                  POF             POF   \n",
       "...                   ...                  ...             ...   \n",
       "33353             066 PCT                  POM             SGT   \n",
       "33354             066 PCT                  POM             SGT   \n",
       "33355             066 PCT                  POM             SGT   \n",
       "33356             066 PCT                  POM             SGT   \n",
       "33357             066 PCT                  POM             SGT   \n",
       "\n",
       "             rank_now   rank_incident mos_ethnicity mos_gender  \\\n",
       "0      Police Officer  Police Officer      Hispanic          M   \n",
       "1      Police Officer  Police Officer         White          M   \n",
       "2      Police Officer  Police Officer         White          M   \n",
       "3      Police Officer  Police Officer         White          M   \n",
       "4      Police Officer  Police Officer      Hispanic          F   \n",
       "...               ...             ...           ...        ...   \n",
       "33353        Sergeant  Police Officer         White          M   \n",
       "33354        Sergeant  Police Officer         White          M   \n",
       "33355        Sergeant  Police Officer         White          M   \n",
       "33356        Sergeant  Police Officer         White          M   \n",
       "33357        Sergeant  Police Officer         White          M   \n",
       "\n",
       "       mos_age_incident complainant_ethnicity complainant_gender  \\\n",
       "0                    32                 Black             Female   \n",
       "1                    24                 Black               Male   \n",
       "2                    24                 Black               Male   \n",
       "3                    25                 Black               Male   \n",
       "4                    39                   NaN                NaN   \n",
       "...                 ...                   ...                ...   \n",
       "33353                36                 Asian               Male   \n",
       "33354                36                 Asian               Male   \n",
       "33355                36                 Asian               Male   \n",
       "33356                36                 Asian               Male   \n",
       "33357                36                 Asian               Male   \n",
       "\n",
       "       complainant_age_incident           fado_type  \\\n",
       "0                          38.0  Abuse of Authority   \n",
       "1                          26.0         Discourtesy   \n",
       "2                          26.0  Offensive Language   \n",
       "3                          45.0  Abuse of Authority   \n",
       "4                          16.0               Force   \n",
       "...                         ...                 ...   \n",
       "33353                      21.0         Discourtesy   \n",
       "33354                      21.0  Abuse of Authority   \n",
       "33355                      21.0  Abuse of Authority   \n",
       "33356                      21.0  Abuse of Authority   \n",
       "33357                      21.0  Abuse of Authority   \n",
       "\n",
       "                         allegation  precinct  \\\n",
       "0      Failure To Provide Rtka Card      78.0   \n",
       "1                            Action      67.0   \n",
       "2                              Race      67.0   \n",
       "3                          Question      67.0   \n",
       "4                    Physical Force      67.0   \n",
       "...                             ...       ...   \n",
       "33353                          Word      66.0   \n",
       "33354   Interference With Recording      66.0   \n",
       "33355            Search (Of Person)      66.0   \n",
       "33356                Vehicle Search      66.0   \n",
       "33357                         Frisk      66.0   \n",
       "\n",
       "                                     contact_reason  \\\n",
       "0                           Report-domestic dispute   \n",
       "1                                  Moving violation   \n",
       "2                                  Moving violation   \n",
       "3      PD suspected C/V of violation/crime - street   \n",
       "4                                    Report-dispute   \n",
       "...                                             ...   \n",
       "33353                              Moving violation   \n",
       "33354                              Moving violation   \n",
       "33355                              Moving violation   \n",
       "33356                              Moving violation   \n",
       "33357                              Moving violation   \n",
       "\n",
       "                    outcome_description  \\\n",
       "0      No arrest made or summons issued   \n",
       "1       Moving violation summons issued   \n",
       "2       Moving violation summons issued   \n",
       "3      No arrest made or summons issued   \n",
       "4        Arrest - other violation/crime   \n",
       "...                                 ...   \n",
       "33353   Moving violation summons issued   \n",
       "33354   Moving violation summons issued   \n",
       "33355   Moving violation summons issued   \n",
       "33356   Moving violation summons issued   \n",
       "33357   Moving violation summons issued   \n",
       "\n",
       "                              board_disposition  \n",
       "0      Substantiated (Command Lvl Instructions)  \n",
       "1                       Substantiated (Charges)  \n",
       "2                       Substantiated (Charges)  \n",
       "3                       Substantiated (Charges)  \n",
       "4          Substantiated (Command Discipline A)  \n",
       "...                                         ...  \n",
       "33353                           Unsubstantiated  \n",
       "33354                           Unsubstantiated  \n",
       "33355       Substantiated (Formalized Training)  \n",
       "33356       Substantiated (Formalized Training)  \n",
       "33357       Substantiated (Formalized Training)  \n",
       "\n",
       "[31994 rows x 26 columns]"
      ]
     },
     "execution_count": 22,
     "metadata": {},
     "output_type": "execute_result"
    }
   ],
   "source": [
    "db"
   ]
  },
  {
   "cell_type": "code",
   "execution_count": 36,
   "id": "ef133c3e",
   "metadata": {},
   "outputs": [
    {
     "data": {
      "text/html": [
       "<div>\n",
       "<style scoped>\n",
       "    .dataframe tbody tr th:only-of-type {\n",
       "        vertical-align: middle;\n",
       "    }\n",
       "\n",
       "    .dataframe tbody tr th {\n",
       "        vertical-align: top;\n",
       "    }\n",
       "\n",
       "    .dataframe thead th {\n",
       "        text-align: right;\n",
       "    }\n",
       "</style>\n",
       "<table border=\"1\" class=\"dataframe\">\n",
       "  <thead>\n",
       "    <tr style=\"text-align: right;\">\n",
       "      <th></th>\n",
       "      <th>complainant_ethnicity</th>\n",
       "      <th>count</th>\n",
       "    </tr>\n",
       "  </thead>\n",
       "  <tbody>\n",
       "    <tr>\n",
       "      <th>0</th>\n",
       "      <td>Asian</td>\n",
       "      <td>532</td>\n",
       "    </tr>\n",
       "    <tr>\n",
       "      <th>1</th>\n",
       "      <td>Black</td>\n",
       "      <td>17114</td>\n",
       "    </tr>\n",
       "    <tr>\n",
       "      <th>2</th>\n",
       "      <td>Hispanic</td>\n",
       "      <td>6424</td>\n",
       "    </tr>\n",
       "    <tr>\n",
       "      <th>3</th>\n",
       "      <td>Other Race</td>\n",
       "      <td>677</td>\n",
       "    </tr>\n",
       "    <tr>\n",
       "      <th>4</th>\n",
       "      <td>White</td>\n",
       "      <td>2783</td>\n",
       "    </tr>\n",
       "  </tbody>\n",
       "</table>\n",
       "</div>"
      ],
      "text/plain": [
       "  complainant_ethnicity  count\n",
       "0                 Asian    532\n",
       "1                 Black  17114\n",
       "2              Hispanic   6424\n",
       "3            Other Race    677\n",
       "4                 White   2783"
      ]
     },
     "execution_count": 36,
     "metadata": {},
     "output_type": "execute_result"
    }
   ],
   "source": [
    "ethnicityCount = db.groupby('complainant_ethnicity')[['name']].count().reset_index().rename(columns={'name':'count'})\n",
    "ethnicityCount"
   ]
  },
  {
   "cell_type": "code",
   "execution_count": 148,
   "id": "20eaf28b",
   "metadata": {},
   "outputs": [
    {
     "data": {
      "application/vnd.plotly.v1+json": {
       "config": {
        "plotlyServerURL": "https://plot.ly"
       },
       "data": [
        {
         "hovertemplate": "complainant_ethnicity=%{x}<br>count=%{y}<extra></extra>",
         "legendgroup": "Black",
         "marker": {
          "color": "#165C96",
          "pattern": {
           "shape": ""
          }
         },
         "name": "Black",
         "orientation": "v",
         "showlegend": true,
         "textposition": "auto",
         "type": "bar",
         "x": [
          "Black"
         ],
         "xaxis": "x",
         "y": {
          "bdata": "2kI=",
          "dtype": "i2"
         },
         "yaxis": "y"
        },
        {
         "hovertemplate": "complainant_ethnicity=%{x}<br>count=%{y}<extra></extra>",
         "legendgroup": "Hispanic",
         "marker": {
          "color": "#CC5A00",
          "pattern": {
           "shape": ""
          }
         },
         "name": "Hispanic",
         "orientation": "v",
         "showlegend": true,
         "textposition": "auto",
         "type": "bar",
         "x": [
          "Hispanic"
         ],
         "xaxis": "x",
         "y": {
          "bdata": "GBk=",
          "dtype": "i2"
         },
         "yaxis": "y"
        },
        {
         "hovertemplate": "complainant_ethnicity=%{x}<br>count=%{y}<extra></extra>",
         "legendgroup": "White",
         "marker": {
          "color": "#cccccc",
          "pattern": {
           "shape": ""
          }
         },
         "name": "White",
         "orientation": "v",
         "showlegend": true,
         "textposition": "auto",
         "type": "bar",
         "x": [
          "White"
         ],
         "xaxis": "x",
         "y": {
          "bdata": "3wo=",
          "dtype": "i2"
         },
         "yaxis": "y"
        },
        {
         "hovertemplate": "complainant_ethnicity=%{x}<br>count=%{y}<extra></extra>",
         "legendgroup": "Asian",
         "marker": {
          "color": "#aaaaaa",
          "pattern": {
           "shape": ""
          }
         },
         "name": "Asian",
         "orientation": "v",
         "showlegend": true,
         "textposition": "auto",
         "type": "bar",
         "x": [
          "Asian"
         ],
         "xaxis": "x",
         "y": {
          "bdata": "FAI=",
          "dtype": "i2"
         },
         "yaxis": "y"
        },
        {
         "hovertemplate": "complainant_ethnicity=%{x}<br>count=%{y}<extra></extra>",
         "legendgroup": "Other Race",
         "marker": {
          "color": "#888888",
          "pattern": {
           "shape": ""
          }
         },
         "name": "Other Race",
         "orientation": "v",
         "showlegend": true,
         "textposition": "auto",
         "type": "bar",
         "x": [
          "Other Race"
         ],
         "xaxis": "x",
         "y": {
          "bdata": "pQI=",
          "dtype": "i2"
         },
         "yaxis": "y"
        }
       ],
       "layout": {
        "barmode": "relative",
        "height": 450,
        "legend": {
         "title": {
          "text": "complainant_ethnicity"
         },
         "tracegroupgap": 0
        },
        "template": {
         "data": {
          "bar": [
           {
            "error_x": {
             "color": "#2a3f5f"
            },
            "error_y": {
             "color": "#2a3f5f"
            },
            "marker": {
             "line": {
              "color": "#E5ECF6",
              "width": 0.5
             },
             "pattern": {
              "fillmode": "overlay",
              "size": 10,
              "solidity": 0.2
             }
            },
            "type": "bar"
           }
          ],
          "barpolar": [
           {
            "marker": {
             "line": {
              "color": "#E5ECF6",
              "width": 0.5
             },
             "pattern": {
              "fillmode": "overlay",
              "size": 10,
              "solidity": 0.2
             }
            },
            "type": "barpolar"
           }
          ],
          "carpet": [
           {
            "aaxis": {
             "endlinecolor": "#2a3f5f",
             "gridcolor": "white",
             "linecolor": "white",
             "minorgridcolor": "white",
             "startlinecolor": "#2a3f5f"
            },
            "baxis": {
             "endlinecolor": "#2a3f5f",
             "gridcolor": "white",
             "linecolor": "white",
             "minorgridcolor": "white",
             "startlinecolor": "#2a3f5f"
            },
            "type": "carpet"
           }
          ],
          "choropleth": [
           {
            "colorbar": {
             "outlinewidth": 0,
             "ticks": ""
            },
            "type": "choropleth"
           }
          ],
          "contour": [
           {
            "colorbar": {
             "outlinewidth": 0,
             "ticks": ""
            },
            "colorscale": [
             [
              0,
              "#0d0887"
             ],
             [
              0.1111111111111111,
              "#46039f"
             ],
             [
              0.2222222222222222,
              "#7201a8"
             ],
             [
              0.3333333333333333,
              "#9c179e"
             ],
             [
              0.4444444444444444,
              "#bd3786"
             ],
             [
              0.5555555555555556,
              "#d8576b"
             ],
             [
              0.6666666666666666,
              "#ed7953"
             ],
             [
              0.7777777777777778,
              "#fb9f3a"
             ],
             [
              0.8888888888888888,
              "#fdca26"
             ],
             [
              1,
              "#f0f921"
             ]
            ],
            "type": "contour"
           }
          ],
          "contourcarpet": [
           {
            "colorbar": {
             "outlinewidth": 0,
             "ticks": ""
            },
            "type": "contourcarpet"
           }
          ],
          "heatmap": [
           {
            "colorbar": {
             "outlinewidth": 0,
             "ticks": ""
            },
            "colorscale": [
             [
              0,
              "#0d0887"
             ],
             [
              0.1111111111111111,
              "#46039f"
             ],
             [
              0.2222222222222222,
              "#7201a8"
             ],
             [
              0.3333333333333333,
              "#9c179e"
             ],
             [
              0.4444444444444444,
              "#bd3786"
             ],
             [
              0.5555555555555556,
              "#d8576b"
             ],
             [
              0.6666666666666666,
              "#ed7953"
             ],
             [
              0.7777777777777778,
              "#fb9f3a"
             ],
             [
              0.8888888888888888,
              "#fdca26"
             ],
             [
              1,
              "#f0f921"
             ]
            ],
            "type": "heatmap"
           }
          ],
          "histogram": [
           {
            "marker": {
             "pattern": {
              "fillmode": "overlay",
              "size": 10,
              "solidity": 0.2
             }
            },
            "type": "histogram"
           }
          ],
          "histogram2d": [
           {
            "colorbar": {
             "outlinewidth": 0,
             "ticks": ""
            },
            "colorscale": [
             [
              0,
              "#0d0887"
             ],
             [
              0.1111111111111111,
              "#46039f"
             ],
             [
              0.2222222222222222,
              "#7201a8"
             ],
             [
              0.3333333333333333,
              "#9c179e"
             ],
             [
              0.4444444444444444,
              "#bd3786"
             ],
             [
              0.5555555555555556,
              "#d8576b"
             ],
             [
              0.6666666666666666,
              "#ed7953"
             ],
             [
              0.7777777777777778,
              "#fb9f3a"
             ],
             [
              0.8888888888888888,
              "#fdca26"
             ],
             [
              1,
              "#f0f921"
             ]
            ],
            "type": "histogram2d"
           }
          ],
          "histogram2dcontour": [
           {
            "colorbar": {
             "outlinewidth": 0,
             "ticks": ""
            },
            "colorscale": [
             [
              0,
              "#0d0887"
             ],
             [
              0.1111111111111111,
              "#46039f"
             ],
             [
              0.2222222222222222,
              "#7201a8"
             ],
             [
              0.3333333333333333,
              "#9c179e"
             ],
             [
              0.4444444444444444,
              "#bd3786"
             ],
             [
              0.5555555555555556,
              "#d8576b"
             ],
             [
              0.6666666666666666,
              "#ed7953"
             ],
             [
              0.7777777777777778,
              "#fb9f3a"
             ],
             [
              0.8888888888888888,
              "#fdca26"
             ],
             [
              1,
              "#f0f921"
             ]
            ],
            "type": "histogram2dcontour"
           }
          ],
          "mesh3d": [
           {
            "colorbar": {
             "outlinewidth": 0,
             "ticks": ""
            },
            "type": "mesh3d"
           }
          ],
          "parcoords": [
           {
            "line": {
             "colorbar": {
              "outlinewidth": 0,
              "ticks": ""
             }
            },
            "type": "parcoords"
           }
          ],
          "pie": [
           {
            "automargin": true,
            "type": "pie"
           }
          ],
          "scatter": [
           {
            "fillpattern": {
             "fillmode": "overlay",
             "size": 10,
             "solidity": 0.2
            },
            "type": "scatter"
           }
          ],
          "scatter3d": [
           {
            "line": {
             "colorbar": {
              "outlinewidth": 0,
              "ticks": ""
             }
            },
            "marker": {
             "colorbar": {
              "outlinewidth": 0,
              "ticks": ""
             }
            },
            "type": "scatter3d"
           }
          ],
          "scattercarpet": [
           {
            "marker": {
             "colorbar": {
              "outlinewidth": 0,
              "ticks": ""
             }
            },
            "type": "scattercarpet"
           }
          ],
          "scattergeo": [
           {
            "marker": {
             "colorbar": {
              "outlinewidth": 0,
              "ticks": ""
             }
            },
            "type": "scattergeo"
           }
          ],
          "scattergl": [
           {
            "marker": {
             "colorbar": {
              "outlinewidth": 0,
              "ticks": ""
             }
            },
            "type": "scattergl"
           }
          ],
          "scattermap": [
           {
            "marker": {
             "colorbar": {
              "outlinewidth": 0,
              "ticks": ""
             }
            },
            "type": "scattermap"
           }
          ],
          "scattermapbox": [
           {
            "marker": {
             "colorbar": {
              "outlinewidth": 0,
              "ticks": ""
             }
            },
            "type": "scattermapbox"
           }
          ],
          "scatterpolar": [
           {
            "marker": {
             "colorbar": {
              "outlinewidth": 0,
              "ticks": ""
             }
            },
            "type": "scatterpolar"
           }
          ],
          "scatterpolargl": [
           {
            "marker": {
             "colorbar": {
              "outlinewidth": 0,
              "ticks": ""
             }
            },
            "type": "scatterpolargl"
           }
          ],
          "scatterternary": [
           {
            "marker": {
             "colorbar": {
              "outlinewidth": 0,
              "ticks": ""
             }
            },
            "type": "scatterternary"
           }
          ],
          "surface": [
           {
            "colorbar": {
             "outlinewidth": 0,
             "ticks": ""
            },
            "colorscale": [
             [
              0,
              "#0d0887"
             ],
             [
              0.1111111111111111,
              "#46039f"
             ],
             [
              0.2222222222222222,
              "#7201a8"
             ],
             [
              0.3333333333333333,
              "#9c179e"
             ],
             [
              0.4444444444444444,
              "#bd3786"
             ],
             [
              0.5555555555555556,
              "#d8576b"
             ],
             [
              0.6666666666666666,
              "#ed7953"
             ],
             [
              0.7777777777777778,
              "#fb9f3a"
             ],
             [
              0.8888888888888888,
              "#fdca26"
             ],
             [
              1,
              "#f0f921"
             ]
            ],
            "type": "surface"
           }
          ],
          "table": [
           {
            "cells": {
             "fill": {
              "color": "#EBF0F8"
             },
             "line": {
              "color": "white"
             }
            },
            "header": {
             "fill": {
              "color": "#C8D4E3"
             },
             "line": {
              "color": "white"
             }
            },
            "type": "table"
           }
          ]
         },
         "layout": {
          "annotationdefaults": {
           "arrowcolor": "#2a3f5f",
           "arrowhead": 0,
           "arrowwidth": 1
          },
          "autotypenumbers": "strict",
          "coloraxis": {
           "colorbar": {
            "outlinewidth": 0,
            "ticks": ""
           }
          },
          "colorscale": {
           "diverging": [
            [
             0,
             "#8e0152"
            ],
            [
             0.1,
             "#c51b7d"
            ],
            [
             0.2,
             "#de77ae"
            ],
            [
             0.3,
             "#f1b6da"
            ],
            [
             0.4,
             "#fde0ef"
            ],
            [
             0.5,
             "#f7f7f7"
            ],
            [
             0.6,
             "#e6f5d0"
            ],
            [
             0.7,
             "#b8e186"
            ],
            [
             0.8,
             "#7fbc41"
            ],
            [
             0.9,
             "#4d9221"
            ],
            [
             1,
             "#276419"
            ]
           ],
           "sequential": [
            [
             0,
             "#0d0887"
            ],
            [
             0.1111111111111111,
             "#46039f"
            ],
            [
             0.2222222222222222,
             "#7201a8"
            ],
            [
             0.3333333333333333,
             "#9c179e"
            ],
            [
             0.4444444444444444,
             "#bd3786"
            ],
            [
             0.5555555555555556,
             "#d8576b"
            ],
            [
             0.6666666666666666,
             "#ed7953"
            ],
            [
             0.7777777777777778,
             "#fb9f3a"
            ],
            [
             0.8888888888888888,
             "#fdca26"
            ],
            [
             1,
             "#f0f921"
            ]
           ],
           "sequentialminus": [
            [
             0,
             "#0d0887"
            ],
            [
             0.1111111111111111,
             "#46039f"
            ],
            [
             0.2222222222222222,
             "#7201a8"
            ],
            [
             0.3333333333333333,
             "#9c179e"
            ],
            [
             0.4444444444444444,
             "#bd3786"
            ],
            [
             0.5555555555555556,
             "#d8576b"
            ],
            [
             0.6666666666666666,
             "#ed7953"
            ],
            [
             0.7777777777777778,
             "#fb9f3a"
            ],
            [
             0.8888888888888888,
             "#fdca26"
            ],
            [
             1,
             "#f0f921"
            ]
           ]
          },
          "colorway": [
           "#636efa",
           "#EF553B",
           "#00cc96",
           "#ab63fa",
           "#FFA15A",
           "#19d3f3",
           "#FF6692",
           "#B6E880",
           "#FF97FF",
           "#FECB52"
          ],
          "font": {
           "color": "#2a3f5f"
          },
          "geo": {
           "bgcolor": "white",
           "lakecolor": "white",
           "landcolor": "#E5ECF6",
           "showlakes": true,
           "showland": true,
           "subunitcolor": "white"
          },
          "hoverlabel": {
           "align": "left"
          },
          "hovermode": "closest",
          "mapbox": {
           "style": "light"
          },
          "paper_bgcolor": "white",
          "plot_bgcolor": "#E5ECF6",
          "polar": {
           "angularaxis": {
            "gridcolor": "white",
            "linecolor": "white",
            "ticks": ""
           },
           "bgcolor": "#E5ECF6",
           "radialaxis": {
            "gridcolor": "white",
            "linecolor": "white",
            "ticks": ""
           }
          },
          "scene": {
           "xaxis": {
            "backgroundcolor": "#E5ECF6",
            "gridcolor": "white",
            "gridwidth": 2,
            "linecolor": "white",
            "showbackground": true,
            "ticks": "",
            "zerolinecolor": "white"
           },
           "yaxis": {
            "backgroundcolor": "#E5ECF6",
            "gridcolor": "white",
            "gridwidth": 2,
            "linecolor": "white",
            "showbackground": true,
            "ticks": "",
            "zerolinecolor": "white"
           },
           "zaxis": {
            "backgroundcolor": "#E5ECF6",
            "gridcolor": "white",
            "gridwidth": 2,
            "linecolor": "white",
            "showbackground": true,
            "ticks": "",
            "zerolinecolor": "white"
           }
          },
          "shapedefaults": {
           "line": {
            "color": "#2a3f5f"
           }
          },
          "ternary": {
           "aaxis": {
            "gridcolor": "white",
            "linecolor": "white",
            "ticks": ""
           },
           "baxis": {
            "gridcolor": "white",
            "linecolor": "white",
            "ticks": ""
           },
           "bgcolor": "#E5ECF6",
           "caxis": {
            "gridcolor": "white",
            "linecolor": "white",
            "ticks": ""
           }
          },
          "title": {
           "x": 0.05
          },
          "xaxis": {
           "automargin": true,
           "gridcolor": "white",
           "linecolor": "white",
           "ticks": "",
           "title": {
            "standoff": 15
           },
           "zerolinecolor": "white",
           "zerolinewidth": 2
          },
          "yaxis": {
           "automargin": true,
           "gridcolor": "white",
           "linecolor": "white",
           "ticks": "",
           "title": {
            "standoff": 15
           },
           "zerolinecolor": "white",
           "zerolinewidth": 2
          }
         }
        },
        "title": {
         "font": {
          "size": 18
         },
         "text": "Black and Hispanic Complainants Are The Most Vocal In New York"
        },
        "width": 700,
        "xaxis": {
         "anchor": "y",
         "categoryarray": [
          "Black",
          "Hispanic",
          "White",
          "Asian",
          "Other Race"
         ],
         "categoryorder": "array",
         "domain": [
          0,
          1
         ],
         "title": {
          "text": "complainant_ethnicity"
         }
        },
        "yaxis": {
         "anchor": "x",
         "domain": [
          0,
          1
         ],
         "title": {
          "text": "count"
         }
        }
       }
      }
     },
     "metadata": {},
     "output_type": "display_data"
    }
   ],
   "source": [
    "color_discrete_map = {\n",
    "    \"Black\": \"#165C96\", \"Hispanic\": \"#CC5A00\", \"White\": \"#cccccc\", \"Asian\": \"#aaaaaa\", \"Other Race\": \"#888888\"       \n",
    "}\n",
    "\n",
    "fig = px.bar(ethnicityCount, x='complainant_ethnicity', y='count', color='complainant_ethnicity',\n",
    "             color_discrete_map=color_discrete_map, category_orders={\"complainant_ethnicity\": [\"Black\", \"Hispanic\", \"White\", \"Asian\", \"Other\"]},\n",
    "             title='Black and Hispanic Complainants Are The Most Vocal In New York',width=700, height=450)\n",
    "fig.update_xaxes(categoryorder = 'array', categoryarray = ['Black', 'Hispanic', 'White', 'Asian', 'Other Race'])\n",
    "fig.update_layout(title_font=dict(size=18))\n",
    "fig.write_image('for.png')\n",
    "fig.show()"
   ]
  },
  {
   "cell_type": "code",
   "execution_count": 115,
   "id": "e6964da1",
   "metadata": {},
   "outputs": [
    {
     "data": {
      "text/html": [
       "<div>\n",
       "<style scoped>\n",
       "    .dataframe tbody tr th:only-of-type {\n",
       "        vertical-align: middle;\n",
       "    }\n",
       "\n",
       "    .dataframe tbody tr th {\n",
       "        vertical-align: top;\n",
       "    }\n",
       "\n",
       "    .dataframe thead th {\n",
       "        text-align: right;\n",
       "    }\n",
       "</style>\n",
       "<table border=\"1\" class=\"dataframe\">\n",
       "  <thead>\n",
       "    <tr style=\"text-align: right;\">\n",
       "      <th></th>\n",
       "      <th>complainant_ethnicity</th>\n",
       "      <th>name</th>\n",
       "    </tr>\n",
       "  </thead>\n",
       "  <tbody>\n",
       "    <tr>\n",
       "      <th>1</th>\n",
       "      <td>Black</td>\n",
       "      <td>55.4</td>\n",
       "    </tr>\n",
       "    <tr>\n",
       "      <th>2</th>\n",
       "      <td>Hispanic</td>\n",
       "      <td>37.5</td>\n",
       "    </tr>\n",
       "    <tr>\n",
       "      <th>4</th>\n",
       "      <td>White</td>\n",
       "      <td>4.2</td>\n",
       "    </tr>\n",
       "    <tr>\n",
       "      <th>0</th>\n",
       "      <td>Asian</td>\n",
       "      <td>0.8</td>\n",
       "    </tr>\n",
       "    <tr>\n",
       "      <th>3</th>\n",
       "      <td>Other Race</td>\n",
       "      <td>2.0</td>\n",
       "    </tr>\n",
       "  </tbody>\n",
       "</table>\n",
       "</div>"
      ],
      "text/plain": [
       "  complainant_ethnicity  name\n",
       "1                 Black  55.4\n",
       "2              Hispanic  37.5\n",
       "4                 White   4.2\n",
       "0                 Asian   0.8\n",
       "3            Other Race   2.0"
      ]
     },
     "execution_count": 115,
     "metadata": {},
     "output_type": "execute_result"
    }
   ],
   "source": [
    "precinct = np.arange(40.0, 53.0)\n",
    "bronx = db[db['precinct'].isin(precinct)].groupby('complainant_ethnicity')[['name']].count().reset_index()\n",
    "bronx['name'] = (bronx['name'] / sum(bronx['name'])) * 100\n",
    "bronx['name'] = bronx['name'].round(1)\n",
    "bronx = bronx.reindex([1,2,4,0,3])\n",
    "bronx"
   ]
  },
  {
   "cell_type": "code",
   "execution_count": 117,
   "id": "fa49b7db",
   "metadata": {},
   "outputs": [
    {
     "data": {
      "text/html": [
       "<div>\n",
       "<style scoped>\n",
       "    .dataframe tbody tr th:only-of-type {\n",
       "        vertical-align: middle;\n",
       "    }\n",
       "\n",
       "    .dataframe tbody tr th {\n",
       "        vertical-align: top;\n",
       "    }\n",
       "\n",
       "    .dataframe thead th {\n",
       "        text-align: right;\n",
       "    }\n",
       "</style>\n",
       "<table border=\"1\" class=\"dataframe\">\n",
       "  <thead>\n",
       "    <tr style=\"text-align: right;\">\n",
       "      <th></th>\n",
       "      <th>Ethnicity</th>\n",
       "      <th>Percent</th>\n",
       "    </tr>\n",
       "  </thead>\n",
       "  <tbody>\n",
       "    <tr>\n",
       "      <th>1</th>\n",
       "      <td>Black</td>\n",
       "      <td>28.5</td>\n",
       "    </tr>\n",
       "    <tr>\n",
       "      <th>2</th>\n",
       "      <td>Hispanic</td>\n",
       "      <td>54.8</td>\n",
       "    </tr>\n",
       "    <tr>\n",
       "      <th>4</th>\n",
       "      <td>White</td>\n",
       "      <td>8.9</td>\n",
       "    </tr>\n",
       "    <tr>\n",
       "      <th>0</th>\n",
       "      <td>Asian</td>\n",
       "      <td>4.6</td>\n",
       "    </tr>\n",
       "    <tr>\n",
       "      <th>3</th>\n",
       "      <td>Other Race</td>\n",
       "      <td>1.3</td>\n",
       "    </tr>\n",
       "  </tbody>\n",
       "</table>\n",
       "</div>"
      ],
      "text/plain": [
       "    Ethnicity  Percent\n",
       "1       Black     28.5\n",
       "2    Hispanic     54.8\n",
       "4       White      8.9\n",
       "0       Asian      4.6\n",
       "3  Other Race      1.3"
      ]
     },
     "execution_count": 117,
     "metadata": {},
     "output_type": "execute_result"
    }
   ],
   "source": [
    "bronxCensus = pd.DataFrame(columns=['Ethnicity', 'Percent'])\n",
    "bronxCensus.loc[0] = ['Asian', 4.6]\n",
    "bronxCensus.loc[1] = ['Black', 28.5]\n",
    "bronxCensus.loc[2] = ['Hispanic', 54.8]\n",
    "bronxCensus.loc[3] = ['Other Race', 1.3]\n",
    "bronxCensus.loc[4] = ['White', 8.9]\n",
    "bronxCensus = bronxCensus.reindex([1,2,4,0,3])\n",
    "bronxCensus"
   ]
  },
  {
   "cell_type": "code",
   "execution_count": 151,
   "id": "f22b6394",
   "metadata": {},
   "outputs": [
    {
     "data": {
      "application/vnd.plotly.v1+json": {
       "config": {
        "plotlyServerURL": "https://plot.ly"
       },
       "data": [
        {
         "marker": {
          "color": "steelblue"
         },
         "name": "Complaintants",
         "text": [
          "55.4%",
          "37.5%",
          "4.2%",
          "0.8%",
          "2.0%"
         ],
         "textfont": {
          "color": "#d0d0d0",
          "size": 12
         },
         "textposition": "inside",
         "type": "bar",
         "x": [
          "Black",
          "Hispanic",
          "White",
          "Asian",
          "Other Race"
         ],
         "y": {
          "bdata": "AAAAAADAS0DNzMzMzMxCQDMzMzMzMxFAzczMzMzM7D/NzMzMzMwAQA==",
          "dtype": "f8"
         }
        },
        {
         "marker": {
          "color": "orange"
         },
         "name": "Census",
         "text": [
          "28.5%",
          "54.8%",
          "8.9%",
          "4.6%",
          "1.3%"
         ],
         "textfont": {
          "color": "#d0d0d0",
          "size": 12
         },
         "textposition": "inside",
         "type": "bar",
         "x": [
          "Black",
          "Hispanic",
          "White",
          "Asian",
          "Other Race"
         ],
         "y": {
          "bdata": "mpmZmZmZPEAzMzMzM3NLQAAAAAAAACJAzMzMzMzMEkBnZmZmZmb2Pw==",
          "dtype": "f8"
         }
        }
       ],
       "layout": {
        "barmode": "group",
        "height": 450,
        "paper_bgcolor": "white",
        "plot_bgcolor": "lightgray",
        "template": {
         "data": {
          "bar": [
           {
            "error_x": {
             "color": "#2a3f5f"
            },
            "error_y": {
             "color": "#2a3f5f"
            },
            "marker": {
             "line": {
              "color": "#E5ECF6",
              "width": 0.5
             },
             "pattern": {
              "fillmode": "overlay",
              "size": 10,
              "solidity": 0.2
             }
            },
            "type": "bar"
           }
          ],
          "barpolar": [
           {
            "marker": {
             "line": {
              "color": "#E5ECF6",
              "width": 0.5
             },
             "pattern": {
              "fillmode": "overlay",
              "size": 10,
              "solidity": 0.2
             }
            },
            "type": "barpolar"
           }
          ],
          "carpet": [
           {
            "aaxis": {
             "endlinecolor": "#2a3f5f",
             "gridcolor": "white",
             "linecolor": "white",
             "minorgridcolor": "white",
             "startlinecolor": "#2a3f5f"
            },
            "baxis": {
             "endlinecolor": "#2a3f5f",
             "gridcolor": "white",
             "linecolor": "white",
             "minorgridcolor": "white",
             "startlinecolor": "#2a3f5f"
            },
            "type": "carpet"
           }
          ],
          "choropleth": [
           {
            "colorbar": {
             "outlinewidth": 0,
             "ticks": ""
            },
            "type": "choropleth"
           }
          ],
          "contour": [
           {
            "colorbar": {
             "outlinewidth": 0,
             "ticks": ""
            },
            "colorscale": [
             [
              0,
              "#0d0887"
             ],
             [
              0.1111111111111111,
              "#46039f"
             ],
             [
              0.2222222222222222,
              "#7201a8"
             ],
             [
              0.3333333333333333,
              "#9c179e"
             ],
             [
              0.4444444444444444,
              "#bd3786"
             ],
             [
              0.5555555555555556,
              "#d8576b"
             ],
             [
              0.6666666666666666,
              "#ed7953"
             ],
             [
              0.7777777777777778,
              "#fb9f3a"
             ],
             [
              0.8888888888888888,
              "#fdca26"
             ],
             [
              1,
              "#f0f921"
             ]
            ],
            "type": "contour"
           }
          ],
          "contourcarpet": [
           {
            "colorbar": {
             "outlinewidth": 0,
             "ticks": ""
            },
            "type": "contourcarpet"
           }
          ],
          "heatmap": [
           {
            "colorbar": {
             "outlinewidth": 0,
             "ticks": ""
            },
            "colorscale": [
             [
              0,
              "#0d0887"
             ],
             [
              0.1111111111111111,
              "#46039f"
             ],
             [
              0.2222222222222222,
              "#7201a8"
             ],
             [
              0.3333333333333333,
              "#9c179e"
             ],
             [
              0.4444444444444444,
              "#bd3786"
             ],
             [
              0.5555555555555556,
              "#d8576b"
             ],
             [
              0.6666666666666666,
              "#ed7953"
             ],
             [
              0.7777777777777778,
              "#fb9f3a"
             ],
             [
              0.8888888888888888,
              "#fdca26"
             ],
             [
              1,
              "#f0f921"
             ]
            ],
            "type": "heatmap"
           }
          ],
          "histogram": [
           {
            "marker": {
             "pattern": {
              "fillmode": "overlay",
              "size": 10,
              "solidity": 0.2
             }
            },
            "type": "histogram"
           }
          ],
          "histogram2d": [
           {
            "colorbar": {
             "outlinewidth": 0,
             "ticks": ""
            },
            "colorscale": [
             [
              0,
              "#0d0887"
             ],
             [
              0.1111111111111111,
              "#46039f"
             ],
             [
              0.2222222222222222,
              "#7201a8"
             ],
             [
              0.3333333333333333,
              "#9c179e"
             ],
             [
              0.4444444444444444,
              "#bd3786"
             ],
             [
              0.5555555555555556,
              "#d8576b"
             ],
             [
              0.6666666666666666,
              "#ed7953"
             ],
             [
              0.7777777777777778,
              "#fb9f3a"
             ],
             [
              0.8888888888888888,
              "#fdca26"
             ],
             [
              1,
              "#f0f921"
             ]
            ],
            "type": "histogram2d"
           }
          ],
          "histogram2dcontour": [
           {
            "colorbar": {
             "outlinewidth": 0,
             "ticks": ""
            },
            "colorscale": [
             [
              0,
              "#0d0887"
             ],
             [
              0.1111111111111111,
              "#46039f"
             ],
             [
              0.2222222222222222,
              "#7201a8"
             ],
             [
              0.3333333333333333,
              "#9c179e"
             ],
             [
              0.4444444444444444,
              "#bd3786"
             ],
             [
              0.5555555555555556,
              "#d8576b"
             ],
             [
              0.6666666666666666,
              "#ed7953"
             ],
             [
              0.7777777777777778,
              "#fb9f3a"
             ],
             [
              0.8888888888888888,
              "#fdca26"
             ],
             [
              1,
              "#f0f921"
             ]
            ],
            "type": "histogram2dcontour"
           }
          ],
          "mesh3d": [
           {
            "colorbar": {
             "outlinewidth": 0,
             "ticks": ""
            },
            "type": "mesh3d"
           }
          ],
          "parcoords": [
           {
            "line": {
             "colorbar": {
              "outlinewidth": 0,
              "ticks": ""
             }
            },
            "type": "parcoords"
           }
          ],
          "pie": [
           {
            "automargin": true,
            "type": "pie"
           }
          ],
          "scatter": [
           {
            "fillpattern": {
             "fillmode": "overlay",
             "size": 10,
             "solidity": 0.2
            },
            "type": "scatter"
           }
          ],
          "scatter3d": [
           {
            "line": {
             "colorbar": {
              "outlinewidth": 0,
              "ticks": ""
             }
            },
            "marker": {
             "colorbar": {
              "outlinewidth": 0,
              "ticks": ""
             }
            },
            "type": "scatter3d"
           }
          ],
          "scattercarpet": [
           {
            "marker": {
             "colorbar": {
              "outlinewidth": 0,
              "ticks": ""
             }
            },
            "type": "scattercarpet"
           }
          ],
          "scattergeo": [
           {
            "marker": {
             "colorbar": {
              "outlinewidth": 0,
              "ticks": ""
             }
            },
            "type": "scattergeo"
           }
          ],
          "scattergl": [
           {
            "marker": {
             "colorbar": {
              "outlinewidth": 0,
              "ticks": ""
             }
            },
            "type": "scattergl"
           }
          ],
          "scattermap": [
           {
            "marker": {
             "colorbar": {
              "outlinewidth": 0,
              "ticks": ""
             }
            },
            "type": "scattermap"
           }
          ],
          "scattermapbox": [
           {
            "marker": {
             "colorbar": {
              "outlinewidth": 0,
              "ticks": ""
             }
            },
            "type": "scattermapbox"
           }
          ],
          "scatterpolar": [
           {
            "marker": {
             "colorbar": {
              "outlinewidth": 0,
              "ticks": ""
             }
            },
            "type": "scatterpolar"
           }
          ],
          "scatterpolargl": [
           {
            "marker": {
             "colorbar": {
              "outlinewidth": 0,
              "ticks": ""
             }
            },
            "type": "scatterpolargl"
           }
          ],
          "scatterternary": [
           {
            "marker": {
             "colorbar": {
              "outlinewidth": 0,
              "ticks": ""
             }
            },
            "type": "scatterternary"
           }
          ],
          "surface": [
           {
            "colorbar": {
             "outlinewidth": 0,
             "ticks": ""
            },
            "colorscale": [
             [
              0,
              "#0d0887"
             ],
             [
              0.1111111111111111,
              "#46039f"
             ],
             [
              0.2222222222222222,
              "#7201a8"
             ],
             [
              0.3333333333333333,
              "#9c179e"
             ],
             [
              0.4444444444444444,
              "#bd3786"
             ],
             [
              0.5555555555555556,
              "#d8576b"
             ],
             [
              0.6666666666666666,
              "#ed7953"
             ],
             [
              0.7777777777777778,
              "#fb9f3a"
             ],
             [
              0.8888888888888888,
              "#fdca26"
             ],
             [
              1,
              "#f0f921"
             ]
            ],
            "type": "surface"
           }
          ],
          "table": [
           {
            "cells": {
             "fill": {
              "color": "#EBF0F8"
             },
             "line": {
              "color": "white"
             }
            },
            "header": {
             "fill": {
              "color": "#C8D4E3"
             },
             "line": {
              "color": "white"
             }
            },
            "type": "table"
           }
          ]
         },
         "layout": {
          "annotationdefaults": {
           "arrowcolor": "#2a3f5f",
           "arrowhead": 0,
           "arrowwidth": 1
          },
          "autotypenumbers": "strict",
          "coloraxis": {
           "colorbar": {
            "outlinewidth": 0,
            "ticks": ""
           }
          },
          "colorscale": {
           "diverging": [
            [
             0,
             "#8e0152"
            ],
            [
             0.1,
             "#c51b7d"
            ],
            [
             0.2,
             "#de77ae"
            ],
            [
             0.3,
             "#f1b6da"
            ],
            [
             0.4,
             "#fde0ef"
            ],
            [
             0.5,
             "#f7f7f7"
            ],
            [
             0.6,
             "#e6f5d0"
            ],
            [
             0.7,
             "#b8e186"
            ],
            [
             0.8,
             "#7fbc41"
            ],
            [
             0.9,
             "#4d9221"
            ],
            [
             1,
             "#276419"
            ]
           ],
           "sequential": [
            [
             0,
             "#0d0887"
            ],
            [
             0.1111111111111111,
             "#46039f"
            ],
            [
             0.2222222222222222,
             "#7201a8"
            ],
            [
             0.3333333333333333,
             "#9c179e"
            ],
            [
             0.4444444444444444,
             "#bd3786"
            ],
            [
             0.5555555555555556,
             "#d8576b"
            ],
            [
             0.6666666666666666,
             "#ed7953"
            ],
            [
             0.7777777777777778,
             "#fb9f3a"
            ],
            [
             0.8888888888888888,
             "#fdca26"
            ],
            [
             1,
             "#f0f921"
            ]
           ],
           "sequentialminus": [
            [
             0,
             "#0d0887"
            ],
            [
             0.1111111111111111,
             "#46039f"
            ],
            [
             0.2222222222222222,
             "#7201a8"
            ],
            [
             0.3333333333333333,
             "#9c179e"
            ],
            [
             0.4444444444444444,
             "#bd3786"
            ],
            [
             0.5555555555555556,
             "#d8576b"
            ],
            [
             0.6666666666666666,
             "#ed7953"
            ],
            [
             0.7777777777777778,
             "#fb9f3a"
            ],
            [
             0.8888888888888888,
             "#fdca26"
            ],
            [
             1,
             "#f0f921"
            ]
           ]
          },
          "colorway": [
           "#636efa",
           "#EF553B",
           "#00cc96",
           "#ab63fa",
           "#FFA15A",
           "#19d3f3",
           "#FF6692",
           "#B6E880",
           "#FF97FF",
           "#FECB52"
          ],
          "font": {
           "color": "#2a3f5f"
          },
          "geo": {
           "bgcolor": "white",
           "lakecolor": "white",
           "landcolor": "#E5ECF6",
           "showlakes": true,
           "showland": true,
           "subunitcolor": "white"
          },
          "hoverlabel": {
           "align": "left"
          },
          "hovermode": "closest",
          "mapbox": {
           "style": "light"
          },
          "paper_bgcolor": "white",
          "plot_bgcolor": "#E5ECF6",
          "polar": {
           "angularaxis": {
            "gridcolor": "white",
            "linecolor": "white",
            "ticks": ""
           },
           "bgcolor": "#E5ECF6",
           "radialaxis": {
            "gridcolor": "white",
            "linecolor": "white",
            "ticks": ""
           }
          },
          "scene": {
           "xaxis": {
            "backgroundcolor": "#E5ECF6",
            "gridcolor": "white",
            "gridwidth": 2,
            "linecolor": "white",
            "showbackground": true,
            "ticks": "",
            "zerolinecolor": "white"
           },
           "yaxis": {
            "backgroundcolor": "#E5ECF6",
            "gridcolor": "white",
            "gridwidth": 2,
            "linecolor": "white",
            "showbackground": true,
            "ticks": "",
            "zerolinecolor": "white"
           },
           "zaxis": {
            "backgroundcolor": "#E5ECF6",
            "gridcolor": "white",
            "gridwidth": 2,
            "linecolor": "white",
            "showbackground": true,
            "ticks": "",
            "zerolinecolor": "white"
           }
          },
          "shapedefaults": {
           "line": {
            "color": "#2a3f5f"
           }
          },
          "ternary": {
           "aaxis": {
            "gridcolor": "white",
            "linecolor": "white",
            "ticks": ""
           },
           "baxis": {
            "gridcolor": "white",
            "linecolor": "white",
            "ticks": ""
           },
           "bgcolor": "#E5ECF6",
           "caxis": {
            "gridcolor": "white",
            "linecolor": "white",
            "ticks": ""
           }
          },
          "title": {
           "x": 0.05
          },
          "xaxis": {
           "automargin": true,
           "gridcolor": "white",
           "linecolor": "white",
           "ticks": "",
           "title": {
            "standoff": 15
           },
           "zerolinecolor": "white",
           "zerolinewidth": 2
          },
          "yaxis": {
           "automargin": true,
           "gridcolor": "white",
           "linecolor": "white",
           "ticks": "",
           "title": {
            "standoff": 15
           },
           "zerolinecolor": "white",
           "zerolinewidth": 2
          }
         }
        },
        "title": {
         "text": "New York Police Department Complaints Roughly Mirror City Demographics"
        },
        "width": 700,
        "xaxis": {
         "showgrid": false,
         "showline": false,
         "title": {
          "text": "Race"
         },
         "zeroline": false
        },
        "yaxis": {
         "showgrid": false,
         "ticktext": [
          "0",
          "1",
          "5",
          "10",
          "20",
          "50"
         ],
         "tickvals": [
          0.1,
          1,
          5,
          10,
          20,
          50
         ],
         "title": {
          "font": {
           "color": "grey"
          },
          "text": "Percentage (in Bronx)"
         },
         "type": "log",
         "zeroline": false
        }
       }
      }
     },
     "metadata": {},
     "output_type": "display_data"
    }
   ],
   "source": [
    "offset = 0.1\n",
    "\n",
    "fig = go.Figure()\n",
    "\n",
    "fig.add_trace(go.Bar(\n",
    "    x=bronx['complainant_ethnicity'],\n",
    "    y=bronx['name'] + offset,\n",
    "    name='Complaintants',\n",
    "    marker_color='steelblue',\n",
    "    text=[f\"{v}%\" for v in bronx['name']],\n",
    "    textposition='inside',\n",
    "    textfont=dict(\n",
    "        color=\"#d0d0d0\",\n",
    "        size=12\n",
    "    )\n",
    "))\n",
    "\n",
    "# Census bars\n",
    "fig.add_trace(go.Bar(\n",
    "    x=bronxCensus['Ethnicity'],\n",
    "    y=bronxCensus['Percent'] + offset,\n",
    "    name='Census',\n",
    "    marker_color='orange',\n",
    "    text=[f\"{v:.1f}%\" for v in bronxCensus['Percent']],\n",
    "    textposition='inside',\n",
    "    textfont=dict(\n",
    "        color=\"#d0d0d0\",\n",
    "        size=12\n",
    "    )\n",
    "))\n",
    "\n",
    "tickvals = [0.1, 1, 5, 10, 20, 50]\n",
    "ticktext = [\"0\", \"1\", \"5\", \"10\", \"20\", \"50\"]\n",
    "\n",
    "fig.update_layout(\n",
    "    title=\"New York Police Department Complaints Roughly Mirror City Demographics\",\n",
    "    xaxis=dict(\n",
    "        title=\"Race\",\n",
    "        showgrid=False,\n",
    "        zeroline=False,\n",
    "        showline=False\n",
    "    ),\n",
    "    yaxis=dict(\n",
    "        type='log',\n",
    "        tickvals=tickvals,\n",
    "        ticktext=ticktext,\n",
    "        showgrid=False,\n",
    "        zeroline=False,\n",
    "        title=dict(text='Percentage (in Bronx)', font=dict(color='grey'))\n",
    "    ),\n",
    "    plot_bgcolor='lightgray',\n",
    "    paper_bgcolor='white',\n",
    "    barmode='group',\n",
    "    width=700,\n",
    "    height=450\n",
    ")\n",
    "\n",
    "fig.write_image('against.png')\n",
    "fig.show()"
   ]
  },
  {
   "cell_type": "code",
   "execution_count": null,
   "id": "4cb71008",
   "metadata": {},
   "outputs": [],
   "source": []
  }
 ],
 "metadata": {
  "kernelspec": {
   "display_name": "base",
   "language": "python",
   "name": "python3"
  },
  "language_info": {
   "codemirror_mode": {
    "name": "ipython",
    "version": 3
   },
   "file_extension": ".py",
   "mimetype": "text/x-python",
   "name": "python",
   "nbconvert_exporter": "python",
   "pygments_lexer": "ipython3",
   "version": "3.12.9"
  }
 },
 "nbformat": 4,
 "nbformat_minor": 5
}
